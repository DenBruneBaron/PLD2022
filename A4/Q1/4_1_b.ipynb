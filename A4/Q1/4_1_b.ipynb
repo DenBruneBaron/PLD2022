{
 "cells": [
  {
   "cell_type": "code",
   "execution_count": 78,
   "metadata": {},
   "outputs": [],
   "source": [
    "import random"
   ]
  },
  {
   "cell_type": "code",
   "execution_count": 79,
   "metadata": {},
   "outputs": [
    {
     "name": "stdout",
     "output_type": "stream",
     "text": [
      "rerolled sum 38\n",
      "original sum 43\n"
     ]
    },
    {
     "data": {
      "text/plain": [
       "43"
      ]
     },
     "execution_count": 79,
     "metadata": {},
     "output_type": "execute_result"
    }
   ],
   "source": [
    "\n",
    "def list_of_dice_rolls(x:int, y:int):\n",
    "    \"\"\"\n",
    "    roll dice\n",
    "\n",
    "    Params:\n",
    "    ------\n",
    "    x : max number on a given dice\n",
    "    y : number of dice\n",
    "\n",
    "    Returns:\n",
    "    --------\n",
    "    list of length y, with random numbers between 1 and x, x is included.\n",
    "\n",
    "    \"\"\"\n",
    "    dice_list = []\n",
    "    for i in range(0,y):\n",
    "        n = random.randint(1,x)\n",
    "        dice_list.append(n)\n",
    "    return dice_list\n",
    "\n",
    "rolled_list = list_of_dice_rolls(6,12)\n",
    "\n",
    "def sum_of_list(x:list):\n",
    "    \"\"\"\n",
    "    sum a list. If the list is divisiable by 7 the function will\n",
    "    \"reroll\" the dice, and check if the new sum is divisable by 7 (mod 7)\n",
    "\n",
    "    Params:\n",
    "    ------\n",
    "    x : list passed on from \"list_of_dice_rolls\" method\n",
    "\n",
    "\n",
    "    Returns:\n",
    "    --------\n",
    "    returns an integer that is not div\n",
    "\n",
    "    \"\"\"\n",
    "    lst_sum = sum(x)\n",
    "    cond = True\n",
    "    i = 0\n",
    "    #print(\"1st print\", lst_sum)\n",
    "    if (lst_sum % 7 == 0):\n",
    "        reroll = list_of_dice_rolls(6, 12)\n",
    "        lst_sum = sum(reroll)\n",
    "        print(\"rerolled sum\", lst_sum)\n",
    "        return lst_sum\n",
    "    else:\n",
    "        print(\"original sum\" ,lst_sum)\n",
    "    return lst_sum\n",
    "\n",
    "list_42 = [6,6,6,6,6,2,2,2,2,2,1,1]\n",
    "list_43 = [6,6,6,6,6,2,2,2,2,2,1,2]\n",
    "\n",
    "# def loop_test(x:int):\n",
    "#     cond = True\n",
    "#     i = 0\n",
    "#     while cond:\n",
    "#         reroll = list_of_dice_rolls(6, 12)\n",
    "#         lst_sum = sum(reroll)\n",
    "#         i = i + 1\n",
    "#         #print(\"print: \",i, lst_sum)\n",
    "#         if lst_sum % 7 != 0:\n",
    "#             cond = False\n",
    "#             print(\"Rerolled sum, which is % 7 != 0, new sum is:\", lst_sum)\n",
    "#         else:\n",
    "#             print(\"original sum is not divisable by 7, no need for reroll\")\n",
    "\n",
    "\n",
    "def average_of_sum(x:int):\n",
    "    x / 12\n",
    "\n",
    "sum_of_list(list_42)\n",
    "sum_of_list(list_43)"
   ]
  },
  {
   "cell_type": "code",
   "execution_count": 80,
   "metadata": {},
   "outputs": [],
   "source": [
    "def sum_of_list(x:list):\n",
    "    \"\"\"\n",
    "    sum a list. If the list is divisiable by 7 the function will\n",
    "    \"reroll\" the dice, and check if the new sum is divisable by 7 (mod 7)\n",
    "\n",
    "    Params:\n",
    "    ------\n",
    "    x : list passed on from \"list_of_dice_rolls\" method\n",
    "\n",
    "\n",
    "    Returns:\n",
    "    --------\n",
    "    returns an integer that is not div\n",
    "\n",
    "    \"\"\"\n",
    "    lst_sum = sum(x)\n",
    "    cond = True\n",
    "    i = 0\n",
    "    #print(\"1st print\", lst_sum)\n",
    "    if (lst_sum % 7 == 0):\n",
    "        while cond:\n",
    "            reroll = list_of_dice_rolls(6, 12)\n",
    "            lst_sum = sum(reroll)\n",
    "            i = i + 1\n",
    "            print(\"print: \",i, lst_sum)\n",
    "            if lst_sum % 7 == 1:\n",
    "                cond = False\n",
    "    else:\n",
    "        print(\"original sum\" ,lst_sum)\n",
    "    return lst_sum"
   ]
  }
 ],
 "metadata": {
  "interpreter": {
   "hash": "a4fe9a7aa49da7f30e62b4fec1f4aa505596ad3901a02abfd818f434a1ca29ce"
  },
  "kernelspec": {
   "display_name": "Python 3.10.0 64-bit",
   "language": "python",
   "name": "python3"
  },
  "language_info": {
   "codemirror_mode": {
    "name": "ipython",
    "version": 3
   },
   "file_extension": ".py",
   "mimetype": "text/x-python",
   "name": "python",
   "nbconvert_exporter": "python",
   "pygments_lexer": "ipython3",
   "version": "3.10.0"
  },
  "orig_nbformat": 4
 },
 "nbformat": 4,
 "nbformat_minor": 2
}
